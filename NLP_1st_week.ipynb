{
  "nbformat": 4,
  "nbformat_minor": 0,
  "metadata": {
    "colab": {
      "name": "NLP 1st week.ipynb",
      "provenance": [],
      "authorship_tag": "ABX9TyM7x50iHCY8S8ds7yqDmh0o",
      "include_colab_link": true
    },
    "kernelspec": {
      "name": "python3",
      "display_name": "Python 3"
    }
  },
  "cells": [
    {
      "cell_type": "markdown",
      "metadata": {
        "id": "view-in-github",
        "colab_type": "text"
      },
      "source": [
        "<a href=\"https://colab.research.google.com/github/Arpitkamal/Natural-Language-Processing-in-TensorFlow/blob/master/NLP_1st_week.ipynb\" target=\"_parent\"><img src=\"https://colab.research.google.com/assets/colab-badge.svg\" alt=\"Open In Colab\"/></a>"
      ]
    },
    {
      "cell_type": "code",
      "metadata": {
        "id": "_prmSCCTDm0j",
        "colab_type": "code",
        "colab": {
          "base_uri": "https://localhost:8080/",
          "height": 238
        },
        "outputId": "304cc59f-bb40-41f3-81b0-f0d949dee936"
      },
      "source": [
        "\n",
        "from tensorflow.keras.preprocessing.text import Tokenizer\n",
        "from tensorflow.keras.preprocessing.sequence import pad_sequences\n",
        "\n",
        "sentence =[\n",
        "           'i love my dog',\n",
        "           'I love my cat!',\n",
        "           'i really love my shaffy love love love'\n",
        "]\n",
        "\n",
        "tokenizer = Tokenizer(num_words=100,oov_token=\"<OOV>\") # object created (object out of vucabulary)\n",
        "tokenizer.fit_on_texts(sentence) \n",
        "word_index = tokenizer.word_index\n",
        "\n",
        "sequences = tokenizer.texts_to_sequences(sentence)\n",
        "padding = pad_sequences(sequences ,padding='post',truncating='post',maxlen=8) # for uniformity \n",
        "print(\"\\n Word Index:\",word_index)\n",
        "print(\"\\n Sequences:\",sequences)\n",
        "print(\"\\n Padding:\",padding)\n",
        "\n",
        "test_data=[\n",
        "           'i reall love my dog!',\n",
        "           'my dog love my manatee'\n",
        "]\n",
        "\n",
        "test_seq= tokenizer.texts_to_sequences(test_data)\n",
        "print('\\n Test Sequence:',test_seq)\n",
        "\n",
        "padding = pad_sequences(test_seq,maxlen=6)\n",
        "print('\\n padding :',padding)\n",
        "\n"
      ],
      "execution_count": 22,
      "outputs": [
        {
          "output_type": "stream",
          "text": [
            "\n",
            " Word Index: {'<OOV>': 1, 'love': 2, 'i': 3, 'my': 4, 'dog': 5, 'cat': 6, 'really': 7, 'shaffy': 8}\n",
            "\n",
            " Sequences: [[3, 2, 4, 5], [3, 2, 4, 6], [3, 7, 2, 4, 8, 2, 2, 2]]\n",
            "\n",
            " Padding: [[3 2 4 5 0 0 0 0]\n",
            " [3 2 4 6 0 0 0 0]\n",
            " [3 7 2 4 8 2 2 2]]\n",
            "\n",
            " Test Sequence: [[3, 1, 2, 4, 5], [4, 5, 2, 4, 1]]\n",
            "\n",
            " padding : [[0 3 1 2 4 5]\n",
            " [0 4 5 2 4 1]]\n"
          ],
          "name": "stdout"
        }
      ]
    },
    {
      "cell_type": "code",
      "metadata": {
        "id": "ZgBeDSmMFQ1g",
        "colab_type": "code",
        "colab": {}
      },
      "source": [
        ""
      ],
      "execution_count": 0,
      "outputs": []
    }
  ]
}