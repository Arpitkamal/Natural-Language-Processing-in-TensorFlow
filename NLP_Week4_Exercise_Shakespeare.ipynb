{
  "nbformat": 4,
  "nbformat_minor": 0,
  "metadata": {
    "colab": {
      "name": "NLP-Week4-Exercise-Shakespeare.ipynb",
      "provenance": [],
      "authorship_tag": "ABX9TyMbispHgfetegw1SValDxeF",
      "include_colab_link": true
    },
    "kernelspec": {
      "name": "python3",
      "display_name": "Python 3"
    }
  },
  "cells": [
    {
      "cell_type": "markdown",
      "metadata": {
        "id": "view-in-github",
        "colab_type": "text"
      },
      "source": [
        "<a href=\"https://colab.research.google.com/github/Arpitkamal/Natural-Language-Processing-in-TensorFlow/blob/master/NLP_Week4_Exercise_Shakespeare.ipynb\" target=\"_parent\"><img src=\"https://colab.research.google.com/assets/colab-badge.svg\" alt=\"Open In Colab\"/></a>"
      ]
    },
    {
      "cell_type": "code",
      "metadata": {
        "id": "BOwsuGQQY9OL",
        "colab_type": "code",
        "outputId": "c98e89c7-f940-476f-825f-ab515acf0b1c",
        "colab": {
          "base_uri": "https://localhost:8080/",
          "height": 63
        }
      },
      "source": [
        "from tensorflow.keras.preprocessing.sequence import pad_sequences\n",
        "from tensorflow.keras.layers import Embedding, LSTM, Dense, Dropout, Bidirectional\n",
        "from tensorflow.keras.preprocessing.text import Tokenizer\n",
        "from tensorflow.keras.models import Sequential\n",
        "from tensorflow.keras.optimizers import Adam\n",
        "from tensorflow.keras import regularizers\n",
        "# Figure out how to import regularizers\n",
        "###\n",
        "import tensorflow.keras.utils as ku \n",
        "import numpy as np "
      ],
      "execution_count": 0,
      "outputs": [
        {
          "output_type": "display_data",
          "data": {
            "text/html": [
              "<p style=\"color: red;\">\n",
              "The default version of TensorFlow in Colab will soon switch to TensorFlow 2.x.<br>\n",
              "We recommend you <a href=\"https://www.tensorflow.org/guide/migrate\" target=\"_blank\">upgrade</a> now \n",
              "or ensure your notebook will continue to use TensorFlow 1.x via the <code>%tensorflow_version 1.x</code> magic:\n",
              "<a href=\"https://colab.research.google.com/notebooks/tensorflow_version.ipynb\" target=\"_blank\">more info</a>.</p>\n"
            ],
            "text/plain": [
              "<IPython.core.display.HTML object>"
            ]
          },
          "metadata": {
            "tags": []
          }
        }
      ]
    },
    {
      "cell_type": "code",
      "metadata": {
        "colab_type": "code",
        "id": "PRnDnCW-Z7qv",
        "outputId": "fb8d1d43-6f52-4a9f-93fc-f2bef8543842",
        "colab": {
          "base_uri": "https://localhost:8080/",
          "height": 204
        }
      },
      "source": [
        "tokenizer = Tokenizer()\n",
        "!wget --no-check-certificate \\\n",
        "    https://storage.googleapis.com/laurencemoroney-blog.appspot.com/sonnets.txt \\\n",
        "    -O /tmp/sonnets.txt\n",
        "data = open('/tmp/sonnets.txt').read()\n",
        "\n",
        "corpus = data.lower().split(\"\\n\")\n",
        "\n",
        "\n",
        "tokenizer.fit_on_texts(corpus)\n",
        "total_words = len(tokenizer.word_index) + 1\n",
        "\n",
        "# create input sequences using list of tokens\n",
        "input_sequences = []\n",
        "for line in corpus:\n",
        "\ttoken_list = tokenizer.texts_to_sequences([line])[0]\n",
        "\tfor i in range(1, len(token_list)):\n",
        "\t\tn_gram_sequence = token_list[:i+1]\n",
        "\t\tinput_sequences.append(n_gram_sequence)\n",
        "\n",
        "\n",
        "# pad sequences \n",
        "max_sequence_len = max([len(x) for x in input_sequences])\n",
        "input_sequences = np.array(pad_sequences(input_sequences, maxlen=max_sequence_len, padding='pre'))\n",
        "\n",
        "# create predictors and label\n",
        "predictors, label = input_sequences[:,:-1],input_sequences[:,-1]\n",
        "\n",
        "label = ku.to_categorical(label, num_classes=total_words)"
      ],
      "execution_count": 0,
      "outputs": [
        {
          "output_type": "stream",
          "text": [
            "--2020-02-25 06:42:20--  https://storage.googleapis.com/laurencemoroney-blog.appspot.com/sonnets.txt\n",
            "Resolving storage.googleapis.com (storage.googleapis.com)... 172.217.14.112, 2607:f8b0:4007:803::2010\n",
            "Connecting to storage.googleapis.com (storage.googleapis.com)|172.217.14.112|:443... connected.\n",
            "HTTP request sent, awaiting response... 200 OK\n",
            "Length: 93578 (91K) [text/plain]\n",
            "Saving to: ‘/tmp/sonnets.txt’\n",
            "\n",
            "\r/tmp/sonnets.txt      0%[                    ]       0  --.-KB/s               \r/tmp/sonnets.txt    100%[===================>]  91.38K  --.-KB/s    in 0.001s  \n",
            "\n",
            "2020-02-25 06:42:20 (166 MB/s) - ‘/tmp/sonnets.txt’ saved [93578/93578]\n",
            "\n"
          ],
          "name": "stdout"
        }
      ]
    },
    {
      "cell_type": "code",
      "metadata": {
        "id": "w9vH8Y59ajYL",
        "colab_type": "code",
        "outputId": "149c077f-6621-4fda-d228-5bfc34c903c9",
        "colab": {
          "base_uri": "https://localhost:8080/",
          "height": 649
        }
      },
      "source": [
        "model = Sequential()\n",
        "model.add(Embedding(total_words, 100, input_length=max_sequence_len-1))\n",
        "model.add(Bidirectional(LSTM(150 , return_sequences=True)))\n",
        "model.add(Dropout(0.2))\n",
        "model.add(LSTM(100))\n",
        "model.add(Dense(total_words/2, activation='relu', kernel_regularizer=regularizers.l2(0.01)))\n",
        "model.add(Dense(total_words, activation='softmax'))\n",
        "# Pick an optimizer\n",
        "\n",
        "model.compile(loss='categorical_crossentropy', optimizer='adam', metrics=['accuracy'])\n",
        "print(model.summary())\n"
      ],
      "execution_count": 0,
      "outputs": [
        {
          "output_type": "stream",
          "text": [
            "WARNING:tensorflow:From /usr/local/lib/python3.6/dist-packages/tensorflow_core/python/keras/initializers.py:119: calling RandomUniform.__init__ (from tensorflow.python.ops.init_ops) with dtype is deprecated and will be removed in a future version.\n",
            "Instructions for updating:\n",
            "Call initializer instance with the dtype argument instead of passing it to the constructor\n",
            "WARNING:tensorflow:From /usr/local/lib/python3.6/dist-packages/tensorflow_core/python/ops/resource_variable_ops.py:1630: calling BaseResourceVariable.__init__ (from tensorflow.python.ops.resource_variable_ops) with constraint is deprecated and will be removed in a future version.\n",
            "Instructions for updating:\n",
            "If using Keras pass *_constraint arguments to layers.\n",
            "WARNING:tensorflow:From /usr/local/lib/python3.6/dist-packages/tensorflow_core/python/ops/init_ops.py:97: calling GlorotUniform.__init__ (from tensorflow.python.ops.init_ops) with dtype is deprecated and will be removed in a future version.\n",
            "Instructions for updating:\n",
            "Call initializer instance with the dtype argument instead of passing it to the constructor\n",
            "WARNING:tensorflow:From /usr/local/lib/python3.6/dist-packages/tensorflow_core/python/ops/init_ops.py:97: calling Orthogonal.__init__ (from tensorflow.python.ops.init_ops) with dtype is deprecated and will be removed in a future version.\n",
            "Instructions for updating:\n",
            "Call initializer instance with the dtype argument instead of passing it to the constructor\n",
            "WARNING:tensorflow:From /usr/local/lib/python3.6/dist-packages/tensorflow_core/python/ops/init_ops.py:97: calling Zeros.__init__ (from tensorflow.python.ops.init_ops) with dtype is deprecated and will be removed in a future version.\n",
            "Instructions for updating:\n",
            "Call initializer instance with the dtype argument instead of passing it to the constructor\n",
            "Model: \"sequential\"\n",
            "_________________________________________________________________\n",
            "Layer (type)                 Output Shape              Param #   \n",
            "=================================================================\n",
            "embedding (Embedding)        (None, 10, 100)           321100    \n",
            "_________________________________________________________________\n",
            "bidirectional (Bidirectional (None, 10, 300)           301200    \n",
            "_________________________________________________________________\n",
            "dropout (Dropout)            (None, 10, 300)           0         \n",
            "_________________________________________________________________\n",
            "lstm_1 (LSTM)                (None, 100)               160400    \n",
            "_________________________________________________________________\n",
            "dense (Dense)                (None, 1605)              162105    \n",
            "_________________________________________________________________\n",
            "dense_1 (Dense)              (None, 3211)              5156866   \n",
            "=================================================================\n",
            "Total params: 6,101,671\n",
            "Trainable params: 6,101,671\n",
            "Non-trainable params: 0\n",
            "_________________________________________________________________\n",
            "None\n"
          ],
          "name": "stdout"
        }
      ]
    },
    {
      "cell_type": "code",
      "metadata": {
        "id": "AIg2f1HBxqof",
        "colab_type": "code",
        "outputId": "2cd16b28-3d87-4cbf-b0ee-47fa4245e2a2",
        "colab": {
          "base_uri": "https://localhost:8080/",
          "height": 1000
        }
      },
      "source": [
        " history = model.fit(predictors, label, epochs=100, verbose=1)"
      ],
      "execution_count": 0,
      "outputs": [
        {
          "output_type": "stream",
          "text": [
            "WARNING:tensorflow:From /usr/local/lib/python3.6/dist-packages/tensorflow_core/python/ops/math_grad.py:1424: where (from tensorflow.python.ops.array_ops) is deprecated and will be removed in a future version.\n",
            "Instructions for updating:\n",
            "Use tf.where in 2.0, which has the same broadcast rule as np.where\n",
            "Train on 15462 samples\n",
            "Epoch 1/100\n",
            "15462/15462 [==============================] - 23s 2ms/sample - loss: 6.8982 - acc: 0.0210\n",
            "Epoch 2/100\n",
            "15462/15462 [==============================] - 22s 1ms/sample - loss: 6.4993 - acc: 0.0238\n",
            "Epoch 3/100\n",
            "15462/15462 [==============================] - 22s 1ms/sample - loss: 6.3943 - acc: 0.0250\n",
            "Epoch 4/100\n",
            "15462/15462 [==============================] - 20s 1ms/sample - loss: 6.2744 - acc: 0.0290\n",
            "Epoch 5/100\n",
            "15462/15462 [==============================] - 22s 1ms/sample - loss: 6.1787 - acc: 0.0356\n",
            "Epoch 6/100\n",
            "15462/15462 [==============================] - 21s 1ms/sample - loss: 6.1001 - acc: 0.0390\n",
            "Epoch 7/100\n",
            "15462/15462 [==============================] - 22s 1ms/sample - loss: 6.0202 - acc: 0.0402\n",
            "Epoch 8/100\n",
            "15462/15462 [==============================] - 23s 1ms/sample - loss: 5.9439 - acc: 0.0434\n",
            "Epoch 9/100\n",
            "15462/15462 [==============================] - 22s 1ms/sample - loss: 5.8489 - acc: 0.0515\n",
            "Epoch 10/100\n",
            "15462/15462 [==============================] - 21s 1ms/sample - loss: 5.7478 - acc: 0.0566\n",
            "Epoch 11/100\n",
            "15462/15462 [==============================] - 22s 1ms/sample - loss: 5.6366 - acc: 0.0642\n",
            "Epoch 12/100\n",
            "15462/15462 [==============================] - 21s 1ms/sample - loss: 5.5340 - acc: 0.0697\n",
            "Epoch 13/100\n",
            "15462/15462 [==============================] - 22s 1ms/sample - loss: 5.4320 - acc: 0.0759\n",
            "Epoch 14/100\n",
            "15462/15462 [==============================] - 22s 1ms/sample - loss: 5.3335 - acc: 0.0810\n",
            "Epoch 15/100\n",
            "15462/15462 [==============================] - 21s 1ms/sample - loss: 5.2339 - acc: 0.0864\n",
            "Epoch 16/100\n",
            "15462/15462 [==============================] - 23s 1ms/sample - loss: 5.1337 - acc: 0.0907\n",
            "Epoch 17/100\n",
            "15462/15462 [==============================] - 22s 1ms/sample - loss: 5.0345 - acc: 0.1000\n",
            "Epoch 18/100\n",
            "15462/15462 [==============================] - 21s 1ms/sample - loss: 4.9279 - acc: 0.1077\n",
            "Epoch 19/100\n",
            "15462/15462 [==============================] - 22s 1ms/sample - loss: 4.8286 - acc: 0.1183\n",
            "Epoch 20/100\n",
            "15462/15462 [==============================] - 23s 1ms/sample - loss: 4.7311 - acc: 0.1252\n",
            "Epoch 21/100\n",
            "15462/15462 [==============================] - 21s 1ms/sample - loss: 4.6217 - acc: 0.1367\n",
            "Epoch 22/100\n",
            "15462/15462 [==============================] - 24s 2ms/sample - loss: 4.5171 - acc: 0.1480\n",
            "Epoch 23/100\n",
            "15462/15462 [==============================] - 22s 1ms/sample - loss: 4.4104 - acc: 0.1570\n",
            "Epoch 24/100\n",
            "15462/15462 [==============================] - 23s 1ms/sample - loss: 4.3177 - acc: 0.1696\n",
            "Epoch 25/100\n",
            "15462/15462 [==============================] - 22s 1ms/sample - loss: 4.2105 - acc: 0.1866\n",
            "Epoch 26/100\n",
            "15462/15462 [==============================] - 22s 1ms/sample - loss: 4.1114 - acc: 0.1946\n",
            "Epoch 27/100\n",
            "15462/15462 [==============================] - 23s 2ms/sample - loss: 4.0069 - acc: 0.2112\n",
            "Epoch 28/100\n",
            "15462/15462 [==============================] - 23s 1ms/sample - loss: 3.9060 - acc: 0.2294\n",
            "Epoch 29/100\n",
            "15462/15462 [==============================] - 23s 1ms/sample - loss: 3.8087 - acc: 0.2443\n",
            "Epoch 30/100\n",
            "15462/15462 [==============================] - 23s 1ms/sample - loss: 3.7127 - acc: 0.2617\n",
            "Epoch 31/100\n",
            "15462/15462 [==============================] - 22s 1ms/sample - loss: 3.6204 - acc: 0.2777\n",
            "Epoch 32/100\n",
            "15462/15462 [==============================] - 22s 1ms/sample - loss: 3.5302 - acc: 0.3000\n",
            "Epoch 33/100\n",
            "15462/15462 [==============================] - 22s 1ms/sample - loss: 3.4466 - acc: 0.3174\n",
            "Epoch 34/100\n",
            "15462/15462 [==============================] - 22s 1ms/sample - loss: 3.3509 - acc: 0.3389\n",
            "Epoch 35/100\n",
            "15462/15462 [==============================] - 23s 2ms/sample - loss: 3.2740 - acc: 0.3527\n",
            "Epoch 36/100\n",
            "15462/15462 [==============================] - 22s 1ms/sample - loss: 3.1995 - acc: 0.3764\n",
            "Epoch 37/100\n",
            "15462/15462 [==============================] - 22s 1ms/sample - loss: 3.1152 - acc: 0.3890\n",
            "Epoch 38/100\n",
            "15462/15462 [==============================] - 23s 1ms/sample - loss: 3.0432 - acc: 0.4045\n",
            "Epoch 39/100\n",
            "15462/15462 [==============================] - 22s 1ms/sample - loss: 2.9782 - acc: 0.4193\n",
            "Epoch 40/100\n",
            "15462/15462 [==============================] - 24s 2ms/sample - loss: 2.9034 - acc: 0.4379\n",
            "Epoch 41/100\n",
            "15462/15462 [==============================] - 22s 1ms/sample - loss: 2.8332 - acc: 0.4544\n",
            "Epoch 42/100\n",
            "15462/15462 [==============================] - 22s 1ms/sample - loss: 2.7643 - acc: 0.4658\n",
            "Epoch 43/100\n",
            "15462/15462 [==============================] - 23s 2ms/sample - loss: 2.7019 - acc: 0.4829\n",
            "Epoch 44/100\n",
            "15462/15462 [==============================] - 23s 1ms/sample - loss: 2.6442 - acc: 0.4940\n",
            "Epoch 45/100\n",
            "15462/15462 [==============================] - 23s 1ms/sample - loss: 2.5924 - acc: 0.5079\n",
            "Epoch 46/100\n",
            "15462/15462 [==============================] - 23s 1ms/sample - loss: 2.5239 - acc: 0.5245\n",
            "Epoch 47/100\n",
            "15462/15462 [==============================] - 23s 1ms/sample - loss: 2.4644 - acc: 0.5362\n",
            "Epoch 48/100\n",
            "15462/15462 [==============================] - 24s 2ms/sample - loss: 2.4171 - acc: 0.5468\n",
            "Epoch 49/100\n",
            "15462/15462 [==============================] - 23s 2ms/sample - loss: 2.3663 - acc: 0.5559\n",
            "Epoch 50/100\n",
            "15462/15462 [==============================] - 22s 1ms/sample - loss: 2.3154 - acc: 0.5688\n",
            "Epoch 51/100\n",
            "15462/15462 [==============================] - 23s 1ms/sample - loss: 2.2805 - acc: 0.5779\n",
            "Epoch 52/100\n",
            "15462/15462 [==============================] - 22s 1ms/sample - loss: 2.2276 - acc: 0.5894\n",
            "Epoch 53/100\n",
            "15462/15462 [==============================] - 23s 2ms/sample - loss: 2.1710 - acc: 0.6026\n",
            "Epoch 54/100\n",
            "15462/15462 [==============================] - 23s 2ms/sample - loss: 2.1401 - acc: 0.6063\n",
            "Epoch 55/100\n",
            "15462/15462 [==============================] - 22s 1ms/sample - loss: 2.1033 - acc: 0.6140\n",
            "Epoch 56/100\n",
            "15462/15462 [==============================] - 24s 2ms/sample - loss: 2.0571 - acc: 0.6266\n",
            "Epoch 57/100\n",
            "15462/15462 [==============================] - 23s 1ms/sample - loss: 2.0155 - acc: 0.6356\n",
            "Epoch 58/100\n",
            "15462/15462 [==============================] - 24s 2ms/sample - loss: 1.9686 - acc: 0.6477\n",
            "Epoch 59/100\n",
            "15462/15462 [==============================] - 24s 2ms/sample - loss: 1.9475 - acc: 0.6519\n",
            "Epoch 60/100\n",
            "15462/15462 [==============================] - 23s 1ms/sample - loss: 1.9082 - acc: 0.6581\n",
            "Epoch 61/100\n",
            "15462/15462 [==============================] - 23s 2ms/sample - loss: 1.8774 - acc: 0.6642\n",
            "Epoch 62/100\n",
            "15462/15462 [==============================] - 22s 1ms/sample - loss: 1.8421 - acc: 0.6725\n",
            "Epoch 63/100\n",
            "15462/15462 [==============================] - 22s 1ms/sample - loss: 1.8149 - acc: 0.6782\n",
            "Epoch 64/100\n",
            "15462/15462 [==============================] - 23s 2ms/sample - loss: 1.7792 - acc: 0.6861\n",
            "Epoch 65/100\n",
            "15462/15462 [==============================] - 23s 1ms/sample - loss: 1.7605 - acc: 0.6901\n",
            "Epoch 66/100\n",
            "15462/15462 [==============================] - 23s 1ms/sample - loss: 1.7415 - acc: 0.6905\n",
            "Epoch 67/100\n",
            "15462/15462 [==============================] - 23s 1ms/sample - loss: 1.7075 - acc: 0.7001\n",
            "Epoch 68/100\n",
            "15462/15462 [==============================] - 23s 2ms/sample - loss: 1.6798 - acc: 0.7021\n",
            "Epoch 69/100\n",
            "15462/15462 [==============================] - 23s 1ms/sample - loss: 1.6470 - acc: 0.7100\n",
            "Epoch 70/100\n",
            "15462/15462 [==============================] - 22s 1ms/sample - loss: 1.6434 - acc: 0.7088\n",
            "Epoch 71/100\n",
            "15462/15462 [==============================] - 24s 2ms/sample - loss: 1.6019 - acc: 0.7205\n",
            "Epoch 72/100\n",
            "15462/15462 [==============================] - 24s 2ms/sample - loss: 1.5807 - acc: 0.7248\n",
            "Epoch 73/100\n",
            "15462/15462 [==============================] - 23s 1ms/sample - loss: 1.5536 - acc: 0.7306\n",
            "Epoch 74/100\n",
            "15462/15462 [==============================] - 24s 2ms/sample - loss: 1.5199 - acc: 0.7386\n",
            "Epoch 75/100\n",
            "15462/15462 [==============================] - 23s 1ms/sample - loss: 1.5073 - acc: 0.7379\n",
            "Epoch 76/100\n",
            "15462/15462 [==============================] - 24s 2ms/sample - loss: 1.4893 - acc: 0.7421\n",
            "Epoch 77/100\n",
            "15462/15462 [==============================] - 24s 2ms/sample - loss: 1.4817 - acc: 0.7430\n",
            "Epoch 78/100\n",
            "15462/15462 [==============================] - 22s 1ms/sample - loss: 1.4516 - acc: 0.7489\n",
            "Epoch 79/100\n",
            "15462/15462 [==============================] - 23s 2ms/sample - loss: 1.4443 - acc: 0.7511\n",
            "Epoch 80/100\n",
            "15462/15462 [==============================] - 24s 2ms/sample - loss: 1.4176 - acc: 0.7562\n",
            "Epoch 81/100\n",
            "15462/15462 [==============================] - 24s 2ms/sample - loss: 1.3958 - acc: 0.7595\n",
            "Epoch 82/100\n",
            "15462/15462 [==============================] - 24s 2ms/sample - loss: 1.3856 - acc: 0.7612\n",
            "Epoch 83/100\n",
            "15462/15462 [==============================] - 23s 1ms/sample - loss: 1.3837 - acc: 0.7569\n",
            "Epoch 84/100\n",
            "15462/15462 [==============================] - 23s 1ms/sample - loss: 1.3639 - acc: 0.7632\n",
            "Epoch 85/100\n",
            "15462/15462 [==============================] - 24s 2ms/sample - loss: 1.3390 - acc: 0.7681\n",
            "Epoch 86/100\n",
            "15462/15462 [==============================] - 24s 2ms/sample - loss: 1.3198 - acc: 0.7749\n",
            "Epoch 87/100\n",
            "15462/15462 [==============================] - 25s 2ms/sample - loss: 1.3035 - acc: 0.7759\n",
            "Epoch 88/100\n",
            "15462/15462 [==============================] - 24s 2ms/sample - loss: 1.2990 - acc: 0.7750\n",
            "Epoch 89/100\n",
            "15462/15462 [==============================] - 23s 2ms/sample - loss: 1.2882 - acc: 0.7782\n",
            "Epoch 90/100\n",
            "15462/15462 [==============================] - 24s 2ms/sample - loss: 1.2738 - acc: 0.7780\n",
            "Epoch 91/100\n",
            "15462/15462 [==============================] - 24s 2ms/sample - loss: 1.2686 - acc: 0.7801\n",
            "Epoch 92/100\n",
            "15462/15462 [==============================] - 25s 2ms/sample - loss: 1.2698 - acc: 0.7740\n",
            "Epoch 93/100\n",
            "15462/15462 [==============================] - 25s 2ms/sample - loss: 1.2355 - acc: 0.7844\n",
            "Epoch 94/100\n",
            "15462/15462 [==============================] - 25s 2ms/sample - loss: 1.2261 - acc: 0.7862\n",
            "Epoch 95/100\n",
            "15462/15462 [==============================] - 25s 2ms/sample - loss: 1.1991 - acc: 0.7930\n",
            "Epoch 96/100\n",
            "15462/15462 [==============================] - 25s 2ms/sample - loss: 1.1866 - acc: 0.7928\n",
            "Epoch 97/100\n",
            "15462/15462 [==============================] - 26s 2ms/sample - loss: 1.1852 - acc: 0.7944\n",
            "Epoch 98/100\n",
            "15462/15462 [==============================] - 24s 2ms/sample - loss: 1.1737 - acc: 0.7965\n",
            "Epoch 99/100\n",
            "15462/15462 [==============================] - 25s 2ms/sample - loss: 1.1689 - acc: 0.7963\n",
            "Epoch 100/100\n",
            "15462/15462 [==============================] - 25s 2ms/sample - loss: 1.1680 - acc: 0.7951\n"
          ],
          "name": "stdout"
        }
      ]
    },
    {
      "cell_type": "code",
      "metadata": {
        "id": "1fXTEO3GJ282",
        "colab_type": "code",
        "outputId": "583ad7a3-d95b-489a-dbf7-a5b4d904f067",
        "colab": {
          "base_uri": "https://localhost:8080/",
          "height": 545
        }
      },
      "source": [
        "import matplotlib.pyplot as plt\n",
        "acc = history.history['acc']\n",
        "loss = history.history['loss']\n",
        "\n",
        "epochs = range(len(acc))\n",
        "\n",
        "plt.plot(epochs, acc, 'b', label='Training accuracy')\n",
        "plt.title('Training accuracy')\n",
        "\n",
        "plt.figure()\n",
        "\n",
        "plt.plot(epochs, loss, 'b', label='Training Loss')\n",
        "plt.title('Training loss')\n",
        "plt.legend()\n",
        "\n",
        "plt.show()"
      ],
      "execution_count": 0,
      "outputs": [
        {
          "output_type": "display_data",
          "data": {
            "image/png": "[encoded data removed]",
            "text/plain": [
              "<Figure size 432x288 with 1 Axes>"
            ]
          },
          "metadata": {
            "tags": []
          }
        },
        {
          "output_type": "display_data",
          "data": {
            "image/png": "[encoded data removed]",
            "text/plain": [
              "<Figure size 432x288 with 1 Axes>"
            ]
          },
          "metadata": {
            "tags": []
          }
        }
      ]
    },
    {
      "cell_type": "code",
      "metadata": {
        "id": "6Vc6PHgxa6Hm",
        "colab_type": "code",
        "outputId": "20999521-2c2c-440f-a834-21e22436f00b",
        "colab": {
          "base_uri": "https://localhost:8080/",
          "height": 54
        }
      },
      "source": [
        "seed_text = \"Help me Obi Wan Kenobi, you're my only hope\"\n",
        "next_words = 100\n",
        "  \n",
        "for _ in range(next_words):\n",
        "\ttoken_list = tokenizer.texts_to_sequences([seed_text])[0]\n",
        "\ttoken_list = pad_sequences([token_list], maxlen=max_sequence_len-1, padding='pre')\n",
        "\tpredicted = model.predict_classes(token_list, verbose=0)\n",
        "\toutput_word = \"\"\n",
        "\tfor word, index in tokenizer.word_index.items():\n",
        "\t\tif index == predicted:\n",
        "\t\t\toutput_word = word\n",
        "\t\t\tbreak\n",
        "\tseed_text += \" \" + output_word\n",
        "print(seed_text)"
      ],
      "execution_count": 0,
      "outputs": [
        {
          "output_type": "stream",
          "text": [
            "Help me Obi Wan Kenobi, you're my only hope ere left the sun hate past lease tend used head new past grossly grew old faith be grow new new ' so blind praise can be before none take me now you doth prove sort twain spent new part now back shown back hence remain prophecies confounds her smell mad are lust make men minds grace arising vanish'd rhyme view dyed friend thee contains now men ' forgot contains now halt ye free grow at thee so lust all friend date who so new hate shows good age with why rare they taste lived hence new bars none none new\n"
          ],
          "name": "stdout"
        }
      ]
    }
  ]
}