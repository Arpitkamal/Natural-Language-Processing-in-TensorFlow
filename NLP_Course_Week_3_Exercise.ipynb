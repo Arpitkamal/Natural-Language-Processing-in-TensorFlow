{
  "nbformat": 4,
  "nbformat_minor": 0,
  "metadata": {
    "colab": {
      "name": "NLP Course - Week 3 Exercise.ipynb",
      "provenance": [],
      "authorship_tag": "ABX9TyNUoNGic6ePMgAG914VvUT3",
      "include_colab_link": true
    },
    "kernelspec": {
      "name": "python3",
      "display_name": "Python 3"
    }
  },
  "cells": [
    {
      "cell_type": "markdown",
      "metadata": {
        "id": "view-in-github",
        "colab_type": "text"
      },
      "source": [
        "<a href=\"https://colab.research.google.com/github/Arpitkamal/Natural-Language-Processing-in-TensorFlow/blob/master/NLP_Course_Week_3_Exercise.ipynb\" target=\"_parent\"><img src=\"https://colab.research.google.com/assets/colab-badge.svg\" alt=\"Open In Colab\"/></a>"
      ]
    },
    {
      "cell_type": "code",
      "metadata": {
        "id": "hmA6EzkQJ5jt",
        "colab_type": "code",
        "outputId": "db6c6677-85be-474e-b953-bb44cc0e3b11",
        "colab": {
          "base_uri": "https://localhost:8080/",
          "height": 63
        }
      },
      "source": [
        "import json\n",
        "import tensorflow as tf\n",
        "import csv\n",
        "import random\n",
        "import numpy as np\n",
        "\n",
        "from tensorflow.keras.preprocessing.text import Tokenizer\n",
        "from tensorflow.keras.preprocessing.sequence import pad_sequences\n",
        "from tensorflow.keras.utils import to_categorical\n",
        "from tensorflow.keras import regularizers\n",
        "\n",
        "\n",
        "embedding_dim = 100\n",
        "max_length = 16\n",
        "trunc_type='post'\n",
        "padding_type='post'\n",
        "oov_tok = \"<OOV>\"\n",
        "training_size=160000\n",
        "test_portion=.1\n",
        "\n",
        "corpus = []\n"
      ],
      "execution_count": 0,
      "outputs": [
        {
          "output_type": "display_data",
          "data": {
            "text/html": [
              "<p style=\"color: red;\">\n",
              "The default version of TensorFlow in Colab will soon switch to TensorFlow 2.x.<br>\n",
              "We recommend you <a href=\"https://www.tensorflow.org/guide/migrate\" target=\"_blank\">upgrade</a> now \n",
              "or ensure your notebook will continue to use TensorFlow 1.x via the <code>%tensorflow_version 1.x</code> magic:\n",
              "<a href=\"https://colab.research.google.com/notebooks/tensorflow_version.ipynb\" target=\"_blank\">more info</a>.</p>\n"
            ],
            "text/plain": [
              "<IPython.core.display.HTML object>"
            ]
          },
          "metadata": {
            "tags": []
          }
        }
      ]
    },
    {
      "cell_type": "code",
      "metadata": {
        "id": "bM0l_dORKqE0",
        "colab_type": "code",
        "outputId": "36843825-88d1-48b0-ac94-cf0b7db01c31",
        "colab": {
          "base_uri": "https://localhost:8080/",
          "height": 204
        }
      },
      "source": [
        "\n",
        "# Note that I cleaned the Stanford dataset to remove LATIN1 encoding to make it easier for Python CSV reader\n",
        "# You can do that yourself with:\n",
        "# iconv -f LATIN1 -t UTF8 training.1600000.processed.noemoticon.csv -o training_cleaned.csv\n",
        "# I then hosted it on my site to make it easier to use in this notebook\n",
        "\n",
        "!wget --no-check-certificate \\\n",
        "    https://storage.googleapis.com/laurencemoroney-blog.appspot.com/training_cleaned.csv \\\n",
        "    -O /tmp/training_cleaned.csv\n",
        "\n",
        "num_sentences = 0\n",
        "\n",
        "with open(\"/tmp/training_cleaned.csv\") as csvfile:\n",
        "    reader = csv.reader(csvfile, delimiter=',')\n",
        "    for row in reader:\n",
        "        list_item=[]\n",
        "        list_item.append(row[5])\n",
        "        this_label=row[0]\n",
        "        if this_label=='0':\n",
        "            list_item.append(0)\n",
        "        else:\n",
        "            list_item.append(1)\n",
        "        num_sentences = num_sentences + 1\n",
        "        corpus.append(list_item)\n",
        "\n",
        "\n"
      ],
      "execution_count": 0,
      "outputs": [
        {
          "output_type": "stream",
          "text": [
            "--2020-02-25 05:24:58--  https://storage.googleapis.com/laurencemoroney-blog.appspot.com/training_cleaned.csv\n",
            "Resolving storage.googleapis.com (storage.googleapis.com)... 108.177.119.128, 2a00:1450:4013:c04::80\n",
            "Connecting to storage.googleapis.com (storage.googleapis.com)|108.177.119.128|:443... connected.\n",
            "HTTP request sent, awaiting response... 200 OK\n",
            "Length: 238942690 (228M) [application/octet-stream]\n",
            "Saving to: ‘/tmp/training_cleaned.csv’\n",
            "\n",
            "\r          /tmp/trai   0%[                    ]       0  --.-KB/s               \r         /tmp/train  17%[==>                 ]  38.78M   194MB/s               \r        /tmp/traini  39%[======>             ]  89.98M   225MB/s               \r       /tmp/trainin  61%[===========>        ] 139.73M   233MB/s               \r      /tmp/training  84%[===============>    ] 191.94M   240MB/s               \r/tmp/training_clean 100%[===================>] 227.87M   250MB/s    in 0.9s    \n",
            "\n",
            "2020-02-25 05:24:59 (250 MB/s) - ‘/tmp/training_cleaned.csv’ saved [238942690/238942690]\n",
            "\n"
          ],
          "name": "stdout"
        }
      ]
    },
    {
      "cell_type": "code",
      "metadata": {
        "id": "3kxblBUjEUX-",
        "colab_type": "code",
        "outputId": "fe701572-ae40-4c16-9d7a-aab8063ce61e",
        "colab": {
          "base_uri": "https://localhost:8080/",
          "height": 68
        }
      },
      "source": [
        "print(num_sentences)\n",
        "print(len(corpus))\n",
        "print(corpus[1])\n",
        "\n",
        "# Expected Output:\n",
        "# 1600000\n",
        "# 1600000\n",
        "# [\"is upset that he can't update his Facebook by texting it... and might cry as a result  School today also. Blah!\", 0]"
      ],
      "execution_count": 0,
      "outputs": [
        {
          "output_type": "stream",
          "text": [
            "1600000\n",
            "1600000\n",
            "[\"is upset that he can't update his Facebook by texting it... and might cry as a result  School today also. Blah!\", 0]\n"
          ],
          "name": "stdout"
        }
      ]
    },
    {
      "cell_type": "code",
      "metadata": {
        "id": "ohOGz24lsNAD",
        "colab_type": "code",
        "colab": {}
      },
      "source": [
        "sentences=[]\n",
        "labels=[]\n",
        "random.shuffle(corpus)\n",
        "for x in range(training_size):\n",
        "    sentences.append(corpus[x][0])\n",
        "    labels.append(corpus[x][1])\n",
        "\n",
        "\n",
        "tokenizer = Tokenizer()\n",
        "tokenizer.fit_on_texts(sentences)\n",
        "\n",
        "word_index = tokenizer.word_index\n",
        "vocab_size=len(word_index)\n",
        "\n",
        "sequences = tokenizer.texts_to_sequences(sentences)\n",
        "padded = pad_sequences(sequences, maxlen=max_length, padding=padding_type, truncating=trunc_type)\n",
        "\n",
        "split = int(test_portion * training_size)\n",
        "\n",
        "test_sequences = padded[0:split]\n",
        "training_sequences = padded[split:training_size]\n",
        "test_labels = labels[0:split]\n",
        "training_labels = labels[split:training_size]"
      ],
      "execution_count": 0,
      "outputs": []
    },
    {
      "cell_type": "code",
      "metadata": {
        "id": "gIrtRem1En3N",
        "colab_type": "code",
        "outputId": "88f17074-4f12-4fd6-e5c2-df4fdb25d399",
        "colab": {
          "base_uri": "https://localhost:8080/",
          "height": 51
        }
      },
      "source": [
        "print(vocab_size)\n",
        "print(word_index['i'])\n",
        "# Expected Output\n",
        "# 138858\n",
        "# 1"
      ],
      "execution_count": 0,
      "outputs": [
        {
          "output_type": "stream",
          "text": [
            "138948\n",
            "1\n"
          ],
          "name": "stdout"
        }
      ]
    },
    {
      "cell_type": "code",
      "metadata": {
        "id": "C1zdgJkusRh0",
        "colab_type": "code",
        "outputId": "5e1ff709-669e-4909-e9fa-7681b6e0b485",
        "colab": {
          "base_uri": "https://localhost:8080/",
          "height": 204
        }
      },
      "source": [
        "# Note this is the 100 dimension version of GloVe from Stanford\n",
        "# I unzipped and hosted it on my site to make this notebook easier\n",
        "!wget --no-check-certificate \\\n",
        "    https://storage.googleapis.com/laurencemoroney-blog.appspot.com/glove.6B.100d.txt \\\n",
        "    -O /tmp/glove.6B.100d.txt\n",
        "embeddings_index = {};\n",
        "with open('/tmp/glove.6B.100d.txt') as f:\n",
        "    for line in f:\n",
        "        values = line.split();\n",
        "        word = values[0];\n",
        "        coefs = np.asarray(values[1:], dtype='float32');\n",
        "        embeddings_index[word] = coefs;\n",
        "\n",
        "embeddings_matrix = np.zeros((vocab_size+1, embedding_dim));\n",
        "for word, i in word_index.items():\n",
        "    embedding_vector = embeddings_index.get(word);\n",
        "    if embedding_vector is not None:\n",
        "        embeddings_matrix[i] = embedding_vector;"
      ],
      "execution_count": 0,
      "outputs": [
        {
          "output_type": "stream",
          "text": [
            "--2020-02-25 05:26:57--  https://storage.googleapis.com/laurencemoroney-blog.appspot.com/glove.6B.100d.txt\n",
            "Resolving storage.googleapis.com (storage.googleapis.com)... 172.217.218.128, 2a00:1450:4013:c00::80\n",
            "Connecting to storage.googleapis.com (storage.googleapis.com)|172.217.218.128|:443... connected.\n",
            "HTTP request sent, awaiting response... 200 OK\n",
            "Length: 347116733 (331M) [text/plain]\n",
            "Saving to: ‘/tmp/glove.6B.100d.txt’\n",
            "\n",
            "/tmp/glove.6B.100d. 100%[===================>] 331.04M  54.1MB/s    in 6.1s    \n",
            "\n",
            "2020-02-25 05:27:04 (54.1 MB/s) - ‘/tmp/glove.6B.100d.txt’ saved [347116733/347116733]\n",
            "\n"
          ],
          "name": "stdout"
        }
      ]
    },
    {
      "cell_type": "code",
      "metadata": {
        "id": "71NLk_lpFLNt",
        "colab_type": "code",
        "outputId": "393e09a1-7cb9-42f5-82a7-7a17bb037f78",
        "colab": {
          "base_uri": "https://localhost:8080/",
          "height": 34
        }
      },
      "source": [
        "print(len(embeddings_matrix))\n",
        "# Expected Output\n",
        "# 138859"
      ],
      "execution_count": 0,
      "outputs": [
        {
          "output_type": "stream",
          "text": [
            "138949\n"
          ],
          "name": "stdout"
        }
      ]
    },
    {
      "cell_type": "code",
      "metadata": {
        "colab_type": "code",
        "id": "iKKvbuEBOGFz",
        "outputId": "7e32c7c9-5563-4f57-cddc-a3dffbb11d79",
        "colab": {
          "base_uri": "https://localhost:8080/",
          "height": 1000
        }
      },
      "source": [
        "model = tf.keras.Sequential([\n",
        "    tf.keras.layers.Embedding(vocab_size+1, embedding_dim, input_length=max_length, weights=[embeddings_matrix], trainable=False),\n",
        "    tf.keras.layers.Dropout(0.2),\n",
        "    tf.keras.layers.Conv1D(64, 5, activation='relu'),\n",
        "    tf.keras.layers.MaxPooling1D(pool_size=4),\n",
        "    tf.keras.layers.LSTM(64),\n",
        "    tf.keras.layers.Dense(1, activation='sigmoid')\n",
        "])\n",
        "model.compile(loss='binary_crossentropy',optimizer='adam',metrics=['accuracy'])\n",
        "model.summary()\n",
        "\n",
        "num_epochs = 50\n",
        "history = model.fit(training_sequences, training_labels, epochs=num_epochs, validation_data=(test_sequences, test_labels), verbose=2)\n",
        "\n",
        "print(\"Training Complete\")\n"
      ],
      "execution_count": 0,
      "outputs": [
        {
          "output_type": "stream",
          "text": [
            "WARNING:tensorflow:From /usr/local/lib/python3.6/dist-packages/tensorflow_core/python/keras/initializers.py:119: calling RandomUniform.__init__ (from tensorflow.python.ops.init_ops) with dtype is deprecated and will be removed in a future version.\n",
            "Instructions for updating:\n",
            "Call initializer instance with the dtype argument instead of passing it to the constructor\n",
            "WARNING:tensorflow:From /usr/local/lib/python3.6/dist-packages/tensorflow_core/python/ops/resource_variable_ops.py:1630: calling BaseResourceVariable.__init__ (from tensorflow.python.ops.resource_variable_ops) with constraint is deprecated and will be removed in a future version.\n",
            "Instructions for updating:\n",
            "If using Keras pass *_constraint arguments to layers.\n",
            "WARNING:tensorflow:From /usr/local/lib/python3.6/dist-packages/tensorflow_core/python/ops/nn_impl.py:183: where (from tensorflow.python.ops.array_ops) is deprecated and will be removed in a future version.\n",
            "Instructions for updating:\n",
            "Use tf.where in 2.0, which has the same broadcast rule as np.where\n",
            "Model: \"sequential\"\n",
            "_________________________________________________________________\n",
            "Layer (type)                 Output Shape              Param #   \n",
            "=================================================================\n",
            "embedding (Embedding)        (None, 16, 100)           13894900  \n",
            "_________________________________________________________________\n",
            "dropout (Dropout)            (None, 16, 100)           0         \n",
            "_________________________________________________________________\n",
            "conv1d (Conv1D)              (None, 12, 64)            32064     \n",
            "_________________________________________________________________\n",
            "max_pooling1d (MaxPooling1D) (None, 3, 64)             0         \n",
            "_________________________________________________________________\n",
            "lstm (LSTM)                  (None, 64)                33024     \n",
            "_________________________________________________________________\n",
            "dense (Dense)                (None, 1)                 65        \n",
            "=================================================================\n",
            "Total params: 13,960,053\n",
            "Trainable params: 65,153\n",
            "Non-trainable params: 13,894,900\n",
            "_________________________________________________________________\n",
            "Train on 144000 samples, validate on 16000 samples\n",
            "Epoch 1/50\n",
            "144000/144000 - 36s - loss: 0.5679 - acc: 0.6996 - val_loss: 0.5211 - val_acc: 0.7382\n",
            "Epoch 2/50\n",
            "144000/144000 - 30s - loss: 0.5279 - acc: 0.7310 - val_loss: 0.5076 - val_acc: 0.7465\n",
            "Epoch 3/50\n",
            "144000/144000 - 30s - loss: 0.5130 - acc: 0.7414 - val_loss: 0.5003 - val_acc: 0.7537\n",
            "Epoch 4/50\n",
            "144000/144000 - 30s - loss: 0.5011 - acc: 0.7503 - val_loss: 0.5021 - val_acc: 0.7509\n",
            "Epoch 5/50\n",
            "144000/144000 - 30s - loss: 0.4935 - acc: 0.7555 - val_loss: 0.4974 - val_acc: 0.7549\n",
            "Epoch 6/50\n",
            "144000/144000 - 31s - loss: 0.4866 - acc: 0.7609 - val_loss: 0.5022 - val_acc: 0.7502\n",
            "Epoch 7/50\n",
            "144000/144000 - 30s - loss: 0.4808 - acc: 0.7644 - val_loss: 0.4958 - val_acc: 0.7598\n",
            "Epoch 8/50\n",
            "144000/144000 - 30s - loss: 0.4770 - acc: 0.7664 - val_loss: 0.4986 - val_acc: 0.7563\n",
            "Epoch 9/50\n",
            "144000/144000 - 30s - loss: 0.4722 - acc: 0.7699 - val_loss: 0.4957 - val_acc: 0.7584\n",
            "Epoch 10/50\n",
            "144000/144000 - 30s - loss: 0.4676 - acc: 0.7734 - val_loss: 0.4998 - val_acc: 0.7527\n",
            "Epoch 11/50\n",
            "144000/144000 - 30s - loss: 0.4644 - acc: 0.7752 - val_loss: 0.4950 - val_acc: 0.7581\n",
            "Epoch 12/50\n",
            "144000/144000 - 31s - loss: 0.4625 - acc: 0.7766 - val_loss: 0.5004 - val_acc: 0.7543\n",
            "Epoch 13/50\n",
            "144000/144000 - 30s - loss: 0.4589 - acc: 0.7778 - val_loss: 0.4995 - val_acc: 0.7577\n",
            "Epoch 14/50\n",
            "144000/144000 - 31s - loss: 0.4571 - acc: 0.7798 - val_loss: 0.5023 - val_acc: 0.7561\n",
            "Epoch 15/50\n",
            "144000/144000 - 30s - loss: 0.4546 - acc: 0.7802 - val_loss: 0.5012 - val_acc: 0.7577\n",
            "Epoch 16/50\n",
            "144000/144000 - 31s - loss: 0.4529 - acc: 0.7811 - val_loss: 0.5021 - val_acc: 0.7531\n",
            "Epoch 17/50\n",
            "144000/144000 - 30s - loss: 0.4516 - acc: 0.7823 - val_loss: 0.5013 - val_acc: 0.7556\n",
            "Epoch 18/50\n",
            "144000/144000 - 31s - loss: 0.4501 - acc: 0.7840 - val_loss: 0.5051 - val_acc: 0.7533\n",
            "Epoch 19/50\n",
            "144000/144000 - 31s - loss: 0.4471 - acc: 0.7856 - val_loss: 0.5071 - val_acc: 0.7516\n",
            "Epoch 20/50\n",
            "144000/144000 - 31s - loss: 0.4455 - acc: 0.7871 - val_loss: 0.5052 - val_acc: 0.7546\n",
            "Epoch 21/50\n",
            "144000/144000 - 31s - loss: 0.4456 - acc: 0.7872 - val_loss: 0.5074 - val_acc: 0.7546\n",
            "Epoch 22/50\n",
            "144000/144000 - 32s - loss: 0.4430 - acc: 0.7867 - val_loss: 0.5067 - val_acc: 0.7526\n",
            "Epoch 23/50\n",
            "144000/144000 - 32s - loss: 0.4422 - acc: 0.7875 - val_loss: 0.5080 - val_acc: 0.7529\n",
            "Epoch 24/50\n",
            "144000/144000 - 32s - loss: 0.4432 - acc: 0.7878 - val_loss: 0.5059 - val_acc: 0.7553\n",
            "Epoch 25/50\n",
            "144000/144000 - 32s - loss: 0.4406 - acc: 0.7897 - val_loss: 0.5149 - val_acc: 0.7535\n",
            "Epoch 26/50\n",
            "144000/144000 - 32s - loss: 0.4400 - acc: 0.7882 - val_loss: 0.5125 - val_acc: 0.7535\n",
            "Epoch 27/50\n",
            "144000/144000 - 32s - loss: 0.4391 - acc: 0.7907 - val_loss: 0.5123 - val_acc: 0.7529\n",
            "Epoch 28/50\n",
            "144000/144000 - 31s - loss: 0.4395 - acc: 0.7904 - val_loss: 0.5071 - val_acc: 0.7559\n",
            "Epoch 29/50\n",
            "144000/144000 - 32s - loss: 0.4389 - acc: 0.7908 - val_loss: 0.5169 - val_acc: 0.7558\n",
            "Epoch 30/50\n",
            "144000/144000 - 30s - loss: 0.4373 - acc: 0.7914 - val_loss: 0.5075 - val_acc: 0.7523\n",
            "Epoch 31/50\n",
            "144000/144000 - 31s - loss: 0.4384 - acc: 0.7907 - val_loss: 0.5089 - val_acc: 0.7535\n",
            "Epoch 32/50\n",
            "144000/144000 - 29s - loss: 0.4366 - acc: 0.7918 - val_loss: 0.5078 - val_acc: 0.7566\n",
            "Epoch 33/50\n",
            "144000/144000 - 31s - loss: 0.4363 - acc: 0.7924 - val_loss: 0.5115 - val_acc: 0.7545\n",
            "Epoch 34/50\n",
            "144000/144000 - 29s - loss: 0.4338 - acc: 0.7946 - val_loss: 0.5204 - val_acc: 0.7498\n",
            "Epoch 35/50\n",
            "144000/144000 - 31s - loss: 0.4348 - acc: 0.7937 - val_loss: 0.5121 - val_acc: 0.7554\n",
            "Epoch 36/50\n",
            "144000/144000 - 30s - loss: 0.4343 - acc: 0.7921 - val_loss: 0.5148 - val_acc: 0.7527\n",
            "Epoch 37/50\n",
            "144000/144000 - 30s - loss: 0.4340 - acc: 0.7924 - val_loss: 0.5206 - val_acc: 0.7489\n",
            "Epoch 38/50\n",
            "144000/144000 - 29s - loss: 0.4332 - acc: 0.7942 - val_loss: 0.5139 - val_acc: 0.7558\n",
            "Epoch 39/50\n",
            "144000/144000 - 31s - loss: 0.4322 - acc: 0.7945 - val_loss: 0.5139 - val_acc: 0.7535\n",
            "Epoch 40/50\n",
            "144000/144000 - 30s - loss: 0.4333 - acc: 0.7940 - val_loss: 0.5131 - val_acc: 0.7564\n",
            "Epoch 41/50\n",
            "144000/144000 - 31s - loss: 0.4318 - acc: 0.7943 - val_loss: 0.5118 - val_acc: 0.7535\n",
            "Epoch 42/50\n",
            "144000/144000 - 30s - loss: 0.4321 - acc: 0.7943 - val_loss: 0.5143 - val_acc: 0.7532\n",
            "Epoch 43/50\n",
            "144000/144000 - 31s - loss: 0.4325 - acc: 0.7941 - val_loss: 0.5166 - val_acc: 0.7509\n",
            "Epoch 44/50\n",
            "144000/144000 - 29s - loss: 0.4311 - acc: 0.7955 - val_loss: 0.5116 - val_acc: 0.7516\n",
            "Epoch 45/50\n",
            "144000/144000 - 31s - loss: 0.4313 - acc: 0.7949 - val_loss: 0.5143 - val_acc: 0.7554\n",
            "Epoch 46/50\n",
            "144000/144000 - 30s - loss: 0.4326 - acc: 0.7938 - val_loss: 0.5147 - val_acc: 0.7516\n",
            "Epoch 47/50\n",
            "144000/144000 - 30s - loss: 0.4311 - acc: 0.7948 - val_loss: 0.5103 - val_acc: 0.7561\n",
            "Epoch 48/50\n",
            "144000/144000 - 29s - loss: 0.4312 - acc: 0.7952 - val_loss: 0.5140 - val_acc: 0.7558\n",
            "Epoch 49/50\n",
            "144000/144000 - 30s - loss: 0.4308 - acc: 0.7956 - val_loss: 0.5113 - val_acc: 0.7533\n",
            "Epoch 50/50\n",
            "144000/144000 - 29s - loss: 0.4313 - acc: 0.7948 - val_loss: 0.5124 - val_acc: 0.7526\n",
            "Training Complete\n"
          ],
          "name": "stdout"
        }
      ]
    },
    {
      "cell_type": "code",
      "metadata": {
        "id": "qxju4ItJKO8F",
        "colab_type": "code",
        "outputId": "d47fae74-024c-4de9-f7ea-863777d112b1",
        "colab": {
          "base_uri": "https://localhost:8080/",
          "height": 607
        }
      },
      "source": [
        "import matplotlib.image  as mpimg\n",
        "import matplotlib.pyplot as plt\n",
        "\n",
        "#-----------------------------------------------------------\n",
        "# Retrieve a list of list results on training and test data\n",
        "# sets for each training epoch\n",
        "#-----------------------------------------------------------\n",
        "acc=history.history['acc']\n",
        "val_acc=history.history['val_acc']\n",
        "loss=history.history['loss']\n",
        "val_loss=history.history['val_loss']\n",
        "\n",
        "epochs=range(len(acc)) # Get number of epochs\n",
        "\n",
        "#------------------------------------------------\n",
        "# Plot training and validation accuracy per epoch\n",
        "#------------------------------------------------\n",
        "plt.plot(epochs, acc, 'r')\n",
        "plt.plot(epochs, val_acc, 'b')\n",
        "plt.title('Training and validation accuracy')\n",
        "plt.xlabel(\"Epochs\")\n",
        "plt.ylabel(\"Accuracy\")\n",
        "plt.legend([\"Accuracy\", \"Validation Accuracy\"])\n",
        "\n",
        "plt.figure()\n",
        "\n",
        "#------------------------------------------------\n",
        "# Plot training and validation loss per epoch\n",
        "#------------------------------------------------\n",
        "plt.plot(epochs, loss, 'r')\n",
        "plt.plot(epochs, val_loss, 'b')\n",
        "plt.title('Training and validation loss')\n",
        "plt.xlabel(\"Epochs\")\n",
        "plt.ylabel(\"Loss\")\n",
        "plt.legend([\"Loss\", \"Validation Loss\"])\n",
        "\n",
        "plt.figure()\n",
        "\n",
        "\n",
        "# Expected Output\n",
        "# A chart where the validation loss does not increase sharply!"
      ],
      "execution_count": 0,
      "outputs": [
        {
          "output_type": "execute_result",
          "data": {
            "text/plain": [
              "<Figure size 432x288 with 0 Axes>"
            ]
          },
          "metadata": {
            "tags": []
          },
          "execution_count": 10
        },
        {
          "output_type": "display_data",
          "data": {
            "image/png": "[encoded data removed]",
            "text/plain": [
              "<Figure size 432x288 with 1 Axes>"
            ]
          },
          "metadata": {
            "tags": []
          }
        },
        {
          "output_type": "display_data",
          "data": {
            "image/png": "[encoded data removed]",
            "text/plain": [
              "<Figure size 432x288 with 1 Axes>"
            ]
          },
          "metadata": {
            "tags": []
          }
        },
        {
          "output_type": "display_data",
          "data": {
            "text/plain": [
              "<Figure size 432x288 with 0 Axes>"
            ]
          },
          "metadata": {
            "tags": []
          }
        }
      ]
    }
  ]
}