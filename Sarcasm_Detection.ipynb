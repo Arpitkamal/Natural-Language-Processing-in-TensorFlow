{
  "nbformat": 4,
  "nbformat_minor": 0,
  "metadata": {
    "colab": {
      "name": "Sarcasm Detection.ipynb",
      "provenance": [],
      "authorship_tag": "ABX9TyMo6al3tFIZggb3udfqIw1J",
      "include_colab_link": true
    },
    "kernelspec": {
      "name": "python3",
      "display_name": "Python 3"
    }
  },
  "cells": [
    {
      "cell_type": "markdown",
      "metadata": {
        "id": "view-in-github",
        "colab_type": "text"
      },
      "source": [
        "<a href=\"https://colab.research.google.com/github/Arpitkamal/Natural-Language-Processing-in-TensorFlow/blob/master/Sarcasm_Detection.ipynb\" target=\"_parent\"><img src=\"https://colab.research.google.com/assets/colab-badge.svg\" alt=\"Open In Colab\"/></a>"
      ]
    },
    {
      "cell_type": "code",
      "metadata": {
        "id": "MzOLAiYqF6L_",
        "colab_type": "code",
        "colab": {}
      },
      "source": [
        "import json\n",
        "import tensorflow as tf\n",
        "\n",
        "from tensorflow.keras.preprocessing.text import Tokenizer\n",
        "from tensorflow.keras.preprocessing.sequence import pad_sequences\n",
        "\n",
        "\n",
        "#defining hyperparameters\n",
        "vocab_size = 10000\n",
        "embedding_dim = 16\n",
        "max_length = 32\n",
        "trunc_type = 'post'\n",
        "padding_type = 'post'\n",
        "oov_token=\"<OOV>\"\n",
        "training_size = 20000"
      ],
      "execution_count": 0,
      "outputs": []
    },
    {
      "cell_type": "code",
      "metadata": {
        "id": "GHnmSoQlF_mW",
        "colab_type": "code",
        "colab": {
          "base_uri": "https://localhost:8080/",
          "height": 275
        },
        "outputId": "348b5d26-3e0c-42d2-f3bf-b19be0bb8bcc"
      },
      "source": [
        "#downloading the data \n",
        "!wget --no-check-certificate \\\n",
        "      https://storage.googleapis.com/laurencemoroney-blog.appspot.com/sarcasm.json \\\n",
        "      -O /tmp/sarcasm.json\n",
        "\n",
        "\n",
        "with open(\"/tmp/sarcasm.json\",'r') as f:\n",
        "  datastore = json.load(f)\n",
        "\n",
        "print(type(datastore))\n",
        "print(datastore[0])\n",
        "\n",
        "sentences =[]\n",
        "labels =[]\n",
        "for items in datastore:\n",
        "  sentences.append(items['headline'])\n",
        "  labels.append(items['is_sarcastic'])\n",
        "\n",
        "print(len(sentences)) "
      ],
      "execution_count": 13,
      "outputs": [
        {
          "output_type": "stream",
          "text": [
            "--2020-03-16 06:58:16--  https://storage.googleapis.com/laurencemoroney-blog.appspot.com/sarcasm.json\n",
            "Resolving storage.googleapis.com (storage.googleapis.com)... 172.217.212.128, 2607:f8b0:4001:c03::80\n",
            "Connecting to storage.googleapis.com (storage.googleapis.com)|172.217.212.128|:443... connected.\n",
            "HTTP request sent, awaiting response... 200 OK\n",
            "Length: 5643545 (5.4M) [application/json]\n",
            "Saving to: ‘/tmp/sarcasm.json’\n",
            "\n",
            "\r/tmp/sarcasm.json     0%[                    ]       0  --.-KB/s               \r/tmp/sarcasm.json   100%[===================>]   5.38M  --.-KB/s    in 0.04s   \n",
            "\n",
            "2020-03-16 06:58:16 (145 MB/s) - ‘/tmp/sarcasm.json’ saved [5643545/5643545]\n",
            "\n",
            "<class 'list'>\n",
            "{'article_link': 'https://www.huffingtonpost.com/entry/versace-black-code_us_5861fbefe4b0de3a08f600d5', 'headline': \"former versace store clerk sues over secret 'black code' for minority shoppers\", 'is_sarcastic': 0}\n",
            "26709\n"
          ],
          "name": "stdout"
        }
      ]
    },
    {
      "cell_type": "code",
      "metadata": {
        "id": "3TeLUwsqGAk5",
        "colab_type": "code",
        "colab": {}
      },
      "source": [
        "\n",
        "#Training and tesing data\n",
        "training_sentences = sentences[0:training_size]\n",
        "training_labels = labels[0:training_size]\n",
        "testing_sentences = sentences[training_size:]\n",
        "testing_labels = labels[training_size:]"
      ],
      "execution_count": 0,
      "outputs": []
    },
    {
      "cell_type": "code",
      "metadata": {
        "id": "pRwQExr3GHV-",
        "colab_type": "code",
        "colab": {}
      },
      "source": [
        "\n",
        "#Tokeninzing the data and Padding\n",
        "\n",
        "tokenizer = Tokenizer(num_words = vocab_size , oov_token = oov_token)\n",
        "tokenizer.fit_on_texts(training_sentences)\n",
        "\n",
        "word_index = tokenizer.word_index\n",
        "sequences = tokenizer.texts_to_sequences(training_sentences)\n",
        "padded = pad_sequences(sequences,maxlen = max_length,truncating = trunc_type)\n",
        "\n",
        "training_sequences = tokenizer.texts_to_sequences(training_sentences)\n",
        "training_padded = pad_sequences(training_sequences,maxlen = max_length,padding = padding_type,truncating = trunc_type)\n",
        "\n",
        "testing_sequences = tokenizer.texts_to_sequences(testing_sentences)\n",
        "testing_padded = pad_sequences(testing_sequences,maxlen = max_length,padding = padding_type,truncating = trunc_type)"
      ],
      "execution_count": 0,
      "outputs": []
    },
    {
      "cell_type": "code",
      "metadata": {
        "id": "6PbHjku0GMES",
        "colab_type": "code",
        "colab": {}
      },
      "source": [
        "\n",
        "#define the model for neural network\n",
        "import tensorflow as tf\n",
        "model = tf.keras.Sequential([\n",
        "    tf.keras.layers.Embedding(vocab_size,embedding_dim,input_length = max_length),\n",
        "    tf.keras.layers.GlobalAveragePooling1D(),\n",
        "    tf.keras.layers.Dense(24, activation = 'relu'),\n",
        "    tf.keras.layers.Dense(1,activation = 'sigmoid')\n",
        "])"
      ],
      "execution_count": 0,
      "outputs": []
    },
    {
      "cell_type": "code",
      "metadata": {
        "id": "UK9DEj84GUna",
        "colab_type": "code",
        "colab": {
          "base_uri": "https://localhost:8080/",
          "height": 289
        },
        "outputId": "afb82852-3fac-41f3-dacf-a35716153d20"
      },
      "source": [
        "\n",
        "#Compile the model and printing the summary\n",
        "model.compile(loss='binary_crossentropy',optimizer='adam',metrics = ['accuracy'])\n",
        "model.summary()"
      ],
      "execution_count": 22,
      "outputs": [
        {
          "output_type": "stream",
          "text": [
            "Model: \"sequential_2\"\n",
            "_________________________________________________________________\n",
            "Layer (type)                 Output Shape              Param #   \n",
            "=================================================================\n",
            "embedding_2 (Embedding)      (None, 32, 16)            160000    \n",
            "_________________________________________________________________\n",
            "global_average_pooling1d_2 ( (None, 16)                0         \n",
            "_________________________________________________________________\n",
            "dense_4 (Dense)              (None, 24)                408       \n",
            "_________________________________________________________________\n",
            "dense_5 (Dense)              (None, 1)                 25        \n",
            "=================================================================\n",
            "Total params: 160,433\n",
            "Trainable params: 160,433\n",
            "Non-trainable params: 0\n",
            "_________________________________________________________________\n"
          ],
          "name": "stdout"
        }
      ]
    },
    {
      "cell_type": "code",
      "metadata": {
        "id": "j7SXKccmGYPJ",
        "colab_type": "code",
        "colab": {
          "base_uri": "https://localhost:8080/",
          "height": 1000
        },
        "outputId": "1a3055cc-6fd1-4b07-c5cb-bbd192a7e1af"
      },
      "source": [
        "num_epochs = 50\n",
        "#training the data\n",
        "history = model.fit(training_padded,training_labels,epochs = num_epochs,validation_data = (testing_padded,testing_labels),verbose = 2)"
      ],
      "execution_count": 23,
      "outputs": [
        {
          "output_type": "stream",
          "text": [
            "Train on 20000 samples, validate on 6709 samples\n",
            "Epoch 1/50\n",
            "20000/20000 - 2s - loss: 0.5837 - acc: 0.6819 - val_loss: 0.4429 - val_acc: 0.7986\n",
            "Epoch 2/50\n",
            "20000/20000 - 2s - loss: 0.3983 - acc: 0.8203 - val_loss: 0.4121 - val_acc: 0.8019\n",
            "Epoch 3/50\n",
            "20000/20000 - 2s - loss: 0.3706 - acc: 0.8300 - val_loss: 0.4012 - val_acc: 0.8158\n",
            "Epoch 4/50\n",
            "20000/20000 - 2s - loss: 0.3611 - acc: 0.8364 - val_loss: 0.4004 - val_acc: 0.8155\n",
            "Epoch 5/50\n",
            "20000/20000 - 2s - loss: 0.3561 - acc: 0.8371 - val_loss: 0.4037 - val_acc: 0.8113\n",
            "Epoch 6/50\n",
            "20000/20000 - 2s - loss: 0.3537 - acc: 0.8379 - val_loss: 0.4064 - val_acc: 0.8147\n",
            "Epoch 7/50\n",
            "20000/20000 - 2s - loss: 0.3519 - acc: 0.8404 - val_loss: 0.4063 - val_acc: 0.8135\n",
            "Epoch 8/50\n",
            "20000/20000 - 2s - loss: 0.3507 - acc: 0.8401 - val_loss: 0.4063 - val_acc: 0.8147\n",
            "Epoch 9/50\n",
            "20000/20000 - 2s - loss: 0.3503 - acc: 0.8396 - val_loss: 0.4073 - val_acc: 0.8110\n",
            "Epoch 10/50\n",
            "20000/20000 - 2s - loss: 0.3495 - acc: 0.8403 - val_loss: 0.4062 - val_acc: 0.8137\n",
            "Epoch 11/50\n",
            "20000/20000 - 2s - loss: 0.3478 - acc: 0.8422 - val_loss: 0.4091 - val_acc: 0.8100\n",
            "Epoch 12/50\n",
            "20000/20000 - 2s - loss: 0.3471 - acc: 0.8431 - val_loss: 0.4065 - val_acc: 0.8116\n",
            "Epoch 13/50\n",
            "20000/20000 - 2s - loss: 0.3446 - acc: 0.8432 - val_loss: 0.4045 - val_acc: 0.8125\n",
            "Epoch 14/50\n",
            "20000/20000 - 2s - loss: 0.3432 - acc: 0.8443 - val_loss: 0.4040 - val_acc: 0.8131\n",
            "Epoch 15/50\n",
            "20000/20000 - 2s - loss: 0.3416 - acc: 0.8443 - val_loss: 0.4042 - val_acc: 0.8147\n",
            "Epoch 16/50\n",
            "20000/20000 - 2s - loss: 0.3395 - acc: 0.8454 - val_loss: 0.4021 - val_acc: 0.8162\n",
            "Epoch 17/50\n",
            "20000/20000 - 2s - loss: 0.3369 - acc: 0.8472 - val_loss: 0.4019 - val_acc: 0.8179\n",
            "Epoch 18/50\n",
            "20000/20000 - 2s - loss: 0.3347 - acc: 0.8492 - val_loss: 0.4012 - val_acc: 0.8164\n",
            "Epoch 19/50\n",
            "20000/20000 - 2s - loss: 0.3328 - acc: 0.8490 - val_loss: 0.4007 - val_acc: 0.8179\n",
            "Epoch 20/50\n",
            "20000/20000 - 2s - loss: 0.3323 - acc: 0.8475 - val_loss: 0.3996 - val_acc: 0.8165\n",
            "Epoch 21/50\n",
            "20000/20000 - 2s - loss: 0.3295 - acc: 0.8520 - val_loss: 0.4004 - val_acc: 0.8165\n",
            "Epoch 22/50\n",
            "20000/20000 - 2s - loss: 0.3282 - acc: 0.8514 - val_loss: 0.4094 - val_acc: 0.8089\n",
            "Epoch 23/50\n",
            "20000/20000 - 2s - loss: 0.3265 - acc: 0.8548 - val_loss: 0.4061 - val_acc: 0.8098\n",
            "Epoch 24/50\n",
            "20000/20000 - 2s - loss: 0.3259 - acc: 0.8520 - val_loss: 0.4093 - val_acc: 0.8091\n",
            "Epoch 25/50\n",
            "20000/20000 - 2s - loss: 0.3232 - acc: 0.8544 - val_loss: 0.4001 - val_acc: 0.8204\n",
            "Epoch 26/50\n",
            "20000/20000 - 2s - loss: 0.3232 - acc: 0.8536 - val_loss: 0.4039 - val_acc: 0.8213\n",
            "Epoch 27/50\n",
            "20000/20000 - 2s - loss: 0.3213 - acc: 0.8552 - val_loss: 0.4016 - val_acc: 0.8231\n",
            "Epoch 28/50\n",
            "20000/20000 - 2s - loss: 0.3205 - acc: 0.8558 - val_loss: 0.4027 - val_acc: 0.8226\n",
            "Epoch 29/50\n",
            "20000/20000 - 2s - loss: 0.3189 - acc: 0.8571 - val_loss: 0.4047 - val_acc: 0.8231\n",
            "Epoch 30/50\n",
            "20000/20000 - 2s - loss: 0.3175 - acc: 0.8583 - val_loss: 0.4019 - val_acc: 0.8222\n",
            "Epoch 31/50\n",
            "20000/20000 - 2s - loss: 0.3171 - acc: 0.8592 - val_loss: 0.4037 - val_acc: 0.8171\n",
            "Epoch 32/50\n",
            "20000/20000 - 2s - loss: 0.3155 - acc: 0.8584 - val_loss: 0.4117 - val_acc: 0.8119\n",
            "Epoch 33/50\n",
            "20000/20000 - 2s - loss: 0.3145 - acc: 0.8610 - val_loss: 0.4041 - val_acc: 0.8219\n",
            "Epoch 34/50\n",
            "20000/20000 - 2s - loss: 0.3132 - acc: 0.8612 - val_loss: 0.4061 - val_acc: 0.8201\n",
            "Epoch 35/50\n",
            "20000/20000 - 2s - loss: 0.3125 - acc: 0.8619 - val_loss: 0.4037 - val_acc: 0.8189\n",
            "Epoch 36/50\n",
            "20000/20000 - 2s - loss: 0.3108 - acc: 0.8628 - val_loss: 0.4160 - val_acc: 0.8165\n",
            "Epoch 37/50\n",
            "20000/20000 - 2s - loss: 0.3102 - acc: 0.8637 - val_loss: 0.4059 - val_acc: 0.8182\n",
            "Epoch 38/50\n",
            "20000/20000 - 2s - loss: 0.3098 - acc: 0.8644 - val_loss: 0.4082 - val_acc: 0.8185\n",
            "Epoch 39/50\n",
            "20000/20000 - 2s - loss: 0.3089 - acc: 0.8641 - val_loss: 0.4087 - val_acc: 0.8159\n",
            "Epoch 40/50\n",
            "20000/20000 - 2s - loss: 0.3077 - acc: 0.8658 - val_loss: 0.4077 - val_acc: 0.8174\n",
            "Epoch 41/50\n",
            "20000/20000 - 2s - loss: 0.3066 - acc: 0.8649 - val_loss: 0.4103 - val_acc: 0.8176\n",
            "Epoch 42/50\n",
            "20000/20000 - 2s - loss: 0.3063 - acc: 0.8655 - val_loss: 0.4104 - val_acc: 0.8170\n",
            "Epoch 43/50\n",
            "20000/20000 - 2s - loss: 0.3052 - acc: 0.8655 - val_loss: 0.4130 - val_acc: 0.8162\n",
            "Epoch 44/50\n",
            "20000/20000 - 2s - loss: 0.3053 - acc: 0.8650 - val_loss: 0.4116 - val_acc: 0.8168\n",
            "Epoch 45/50\n",
            "20000/20000 - 2s - loss: 0.3039 - acc: 0.8669 - val_loss: 0.4132 - val_acc: 0.8167\n",
            "Epoch 46/50\n",
            "20000/20000 - 2s - loss: 0.3037 - acc: 0.8663 - val_loss: 0.4136 - val_acc: 0.8162\n",
            "Epoch 47/50\n",
            "20000/20000 - 2s - loss: 0.3030 - acc: 0.8661 - val_loss: 0.4141 - val_acc: 0.8161\n",
            "Epoch 48/50\n",
            "20000/20000 - 2s - loss: 0.3019 - acc: 0.8674 - val_loss: 0.4152 - val_acc: 0.8149\n",
            "Epoch 49/50\n",
            "20000/20000 - 2s - loss: 0.3024 - acc: 0.8665 - val_loss: 0.4170 - val_acc: 0.8179\n",
            "Epoch 50/50\n",
            "20000/20000 - 2s - loss: 0.3013 - acc: 0.8688 - val_loss: 0.4156 - val_acc: 0.8156\n"
          ],
          "name": "stdout"
        }
      ]
    },
    {
      "cell_type": "code",
      "metadata": {
        "id": "hrweTIwJGcf2",
        "colab_type": "code",
        "colab": {
          "base_uri": "https://localhost:8080/",
          "height": 542
        },
        "outputId": "2ba285f9-e843-4e80-cfb2-58f302bb6c63"
      },
      "source": [
        "import matplotlib.pyplot as plt\n",
        "\n",
        "def plot_graphs(history,string):\n",
        "  plt.plot(history.history[string])\n",
        "  plt.plot(history.history['val_'+string])\n",
        "  plt.xlabel('Epochs')\n",
        "  plt.ylabel('string')\n",
        "  plt.legend([string,'val_'+string])\n",
        "  plt.show()\n",
        "\n",
        "plot_graphs(history,\"acc\")\n",
        "plot_graphs(history,\"loss\")\n",
        "\n"
      ],
      "execution_count": 24,
      "outputs": [
        {
          "output_type": "display_data",
          "data": {
            "image/png": "[encoded data removed]",
            "text/plain": [
              "<Figure size 432x288 with 1 Axes>"
            ]
          },
          "metadata": {
            "tags": []
          }
        },
        {
          "output_type": "display_data",
          "data": {
            "image/png": "[encoded data removed]",
            "text/plain": [
              "<Figure size 432x288 with 1 Axes>"
            ]
          },
          "metadata": {
            "tags": []
          }
        }
      ]
    },
    {
      "cell_type": "code",
      "metadata": {
        "id": "YkKnKpZhKP1z",
        "colab_type": "code",
        "colab": {}
      },
      "source": [
        ""
      ],
      "execution_count": 0,
      "outputs": []
    }
  ]
}